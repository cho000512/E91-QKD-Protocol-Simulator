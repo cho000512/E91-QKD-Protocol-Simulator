{
  "nbformat": 4,
  "nbformat_minor": 0,
  "metadata": {
    "colab": {
      "provenance": []
    },
    "kernelspec": {
      "name": "python3",
      "display_name": "Python 3"
    },
    "language_info": {
      "name": "python"
    }
  },
  "cells": [
    {
      "cell_type": "markdown",
      "source": [
        "# Installs & functions"
      ],
      "metadata": {
        "id": "LbvYqRyHoV34"
      }
    },
    {
      "cell_type": "code",
      "execution_count": null,
      "metadata": {
        "colab": {
          "base_uri": "https://localhost:8080/"
        },
        "collapsed": true,
        "id": "M0V4RQ-FB3Gn",
        "outputId": "487917ae-35be-4e52-d989-b5fc53b70717"
      },
      "outputs": [
        {
          "output_type": "stream",
          "name": "stdout",
          "text": [
            "Collecting qiskit\n",
            "  Downloading qiskit-1.2.4-cp38-abi3-manylinux_2_17_x86_64.manylinux2014_x86_64.whl.metadata (12 kB)\n",
            "Collecting rustworkx>=0.15.0 (from qiskit)\n",
            "  Downloading rustworkx-0.15.1-cp38-abi3-manylinux_2_17_x86_64.manylinux2014_x86_64.whl.metadata (9.9 kB)\n",
            "Requirement already satisfied: numpy<3,>=1.17 in /usr/local/lib/python3.10/dist-packages (from qiskit) (1.26.4)\n",
            "Requirement already satisfied: scipy>=1.5 in /usr/local/lib/python3.10/dist-packages (from qiskit) (1.13.1)\n",
            "Requirement already satisfied: sympy>=1.3 in /usr/local/lib/python3.10/dist-packages (from qiskit) (1.13.1)\n",
            "Collecting dill>=0.3 (from qiskit)\n",
            "  Downloading dill-0.3.9-py3-none-any.whl.metadata (10 kB)\n",
            "Requirement already satisfied: python-dateutil>=2.8.0 in /usr/local/lib/python3.10/dist-packages (from qiskit) (2.8.2)\n",
            "Collecting stevedore>=3.0.0 (from qiskit)\n",
            "  Downloading stevedore-5.3.0-py3-none-any.whl.metadata (2.3 kB)\n",
            "Requirement already satisfied: typing-extensions in /usr/local/lib/python3.10/dist-packages (from qiskit) (4.12.2)\n",
            "Collecting symengine<0.14,>=0.11 (from qiskit)\n",
            "  Downloading symengine-0.13.0-cp310-cp310-manylinux_2_17_x86_64.manylinux2014_x86_64.whl.metadata (1.2 kB)\n",
            "Requirement already satisfied: six>=1.5 in /usr/local/lib/python3.10/dist-packages (from python-dateutil>=2.8.0->qiskit) (1.16.0)\n",
            "Collecting pbr>=2.0.0 (from stevedore>=3.0.0->qiskit)\n",
            "  Downloading pbr-6.1.0-py2.py3-none-any.whl.metadata (3.4 kB)\n",
            "Requirement already satisfied: mpmath<1.4,>=1.1.0 in /usr/local/lib/python3.10/dist-packages (from sympy>=1.3->qiskit) (1.3.0)\n",
            "Downloading qiskit-1.2.4-cp38-abi3-manylinux_2_17_x86_64.manylinux2014_x86_64.whl (4.8 MB)\n",
            "\u001b[2K   \u001b[90m━━━━━━━━━━━━━━━━━━━━━━━━━━━━━━━━━━━━━━━━\u001b[0m \u001b[32m4.8/4.8 MB\u001b[0m \u001b[31m33.9 MB/s\u001b[0m eta \u001b[36m0:00:00\u001b[0m\n",
            "\u001b[?25hDownloading dill-0.3.9-py3-none-any.whl (119 kB)\n",
            "\u001b[2K   \u001b[90m━━━━━━━━━━━━━━━━━━━━━━━━━━━━━━━━━━━━━━━━\u001b[0m \u001b[32m119.4/119.4 kB\u001b[0m \u001b[31m8.4 MB/s\u001b[0m eta \u001b[36m0:00:00\u001b[0m\n",
            "\u001b[?25hDownloading rustworkx-0.15.1-cp38-abi3-manylinux_2_17_x86_64.manylinux2014_x86_64.whl (2.0 MB)\n",
            "\u001b[2K   \u001b[90m━━━━━━━━━━━━━━━━━━━━━━━━━━━━━━━━━━━━━━━━\u001b[0m \u001b[32m2.0/2.0 MB\u001b[0m \u001b[31m22.4 MB/s\u001b[0m eta \u001b[36m0:00:00\u001b[0m\n",
            "\u001b[?25hDownloading stevedore-5.3.0-py3-none-any.whl (49 kB)\n",
            "\u001b[2K   \u001b[90m━━━━━━━━━━━━━━━━━━━━━━━━━━━━━━━━━━━━━━━━\u001b[0m \u001b[32m49.7/49.7 kB\u001b[0m \u001b[31m3.1 MB/s\u001b[0m eta \u001b[36m0:00:00\u001b[0m\n",
            "\u001b[?25hDownloading symengine-0.13.0-cp310-cp310-manylinux_2_17_x86_64.manylinux2014_x86_64.whl (49.7 MB)\n",
            "\u001b[2K   \u001b[90m━━━━━━━━━━━━━━━━━━━━━━━━━━━━━━━━━━━━━━━━\u001b[0m \u001b[32m49.7/49.7 MB\u001b[0m \u001b[31m9.0 MB/s\u001b[0m eta \u001b[36m0:00:00\u001b[0m\n",
            "\u001b[?25hDownloading pbr-6.1.0-py2.py3-none-any.whl (108 kB)\n",
            "\u001b[2K   \u001b[90m━━━━━━━━━━━━━━━━━━━━━━━━━━━━━━━━━━━━━━━━\u001b[0m \u001b[32m108.5/108.5 kB\u001b[0m \u001b[31m3.8 MB/s\u001b[0m eta \u001b[36m0:00:00\u001b[0m\n",
            "\u001b[?25hInstalling collected packages: symengine, rustworkx, pbr, dill, stevedore, qiskit\n",
            "Successfully installed dill-0.3.9 pbr-6.1.0 qiskit-1.2.4 rustworkx-0.15.1 stevedore-5.3.0 symengine-0.13.0\n",
            "Collecting qiskit-aer\n",
            "  Downloading qiskit_aer-0.15.1-cp310-cp310-manylinux_2_17_x86_64.manylinux2014_x86_64.whl.metadata (8.0 kB)\n",
            "Requirement already satisfied: qiskit>=1.1.0 in /usr/local/lib/python3.10/dist-packages (from qiskit-aer) (1.2.4)\n",
            "Requirement already satisfied: numpy>=1.16.3 in /usr/local/lib/python3.10/dist-packages (from qiskit-aer) (1.26.4)\n",
            "Requirement already satisfied: scipy>=1.0 in /usr/local/lib/python3.10/dist-packages (from qiskit-aer) (1.13.1)\n",
            "Requirement already satisfied: psutil>=5 in /usr/local/lib/python3.10/dist-packages (from qiskit-aer) (5.9.5)\n",
            "Requirement already satisfied: rustworkx>=0.15.0 in /usr/local/lib/python3.10/dist-packages (from qiskit>=1.1.0->qiskit-aer) (0.15.1)\n",
            "Requirement already satisfied: sympy>=1.3 in /usr/local/lib/python3.10/dist-packages (from qiskit>=1.1.0->qiskit-aer) (1.13.1)\n",
            "Requirement already satisfied: dill>=0.3 in /usr/local/lib/python3.10/dist-packages (from qiskit>=1.1.0->qiskit-aer) (0.3.9)\n",
            "Requirement already satisfied: python-dateutil>=2.8.0 in /usr/local/lib/python3.10/dist-packages (from qiskit>=1.1.0->qiskit-aer) (2.8.2)\n",
            "Requirement already satisfied: stevedore>=3.0.0 in /usr/local/lib/python3.10/dist-packages (from qiskit>=1.1.0->qiskit-aer) (5.3.0)\n",
            "Requirement already satisfied: typing-extensions in /usr/local/lib/python3.10/dist-packages (from qiskit>=1.1.0->qiskit-aer) (4.12.2)\n",
            "Requirement already satisfied: symengine<0.14,>=0.11 in /usr/local/lib/python3.10/dist-packages (from qiskit>=1.1.0->qiskit-aer) (0.13.0)\n",
            "Requirement already satisfied: six>=1.5 in /usr/local/lib/python3.10/dist-packages (from python-dateutil>=2.8.0->qiskit>=1.1.0->qiskit-aer) (1.16.0)\n",
            "Requirement already satisfied: pbr>=2.0.0 in /usr/local/lib/python3.10/dist-packages (from stevedore>=3.0.0->qiskit>=1.1.0->qiskit-aer) (6.1.0)\n",
            "Requirement already satisfied: mpmath<1.4,>=1.1.0 in /usr/local/lib/python3.10/dist-packages (from sympy>=1.3->qiskit>=1.1.0->qiskit-aer) (1.3.0)\n",
            "Downloading qiskit_aer-0.15.1-cp310-cp310-manylinux_2_17_x86_64.manylinux2014_x86_64.whl (12.3 MB)\n",
            "\u001b[2K   \u001b[90m━━━━━━━━━━━━━━━━━━━━━━━━━━━━━━━━━━━━━━━━\u001b[0m \u001b[32m12.3/12.3 MB\u001b[0m \u001b[31m61.6 MB/s\u001b[0m eta \u001b[36m0:00:00\u001b[0m\n",
            "\u001b[?25hInstalling collected packages: qiskit-aer\n",
            "Successfully installed qiskit-aer-0.15.1\n"
          ]
        }
      ],
      "source": [
        "%pip install qiskit\n",
        "%pip install qiskit-aer\n",
        "import numpy as np\n",
        "import random\n",
        "from qiskit import QuantumCircuit, QuantumRegister, ClassicalRegister\n",
        "from qiskit_aer import Aer\n",
        "from qiskit.visualization import plot_histogram"
      ]
    },
    {
      "cell_type": "code",
      "source": [
        "def makeBell(qc):\n",
        "  # Bell state phi+ (correlated, not anti correlated (bob and alice will get same padding))\n",
        "  qc.h(aliceRegister)\n",
        "  qc.cx(aliceRegister, bobRegister)\n",
        "\n",
        "def aliceMeasure(qci, i):\n",
        "  if i == 0:\n",
        "    # Alice measures in \"+\" (H/V)\n",
        "    qci.measure(aliceRegister, cr[0])\n",
        "  else:\n",
        "    # Alice measures in \"x\" (D/A)\n",
        "    qci.h(aliceRegister)\n",
        "    qci.measure(aliceRegister, cr[0])\n",
        "\n",
        "def eveMeasure(qci, i):\n",
        "  if i == 0:\n",
        "    # Eve measures Bob's bit in \"+\" (H/V)\n",
        "    qci.measure(bobRegister, cr[2])\n",
        "  else:\n",
        "    # Eve measures Bob's bit in \"x\" (D/A)\n",
        "    qci.h(bobRegister)\n",
        "    qci.measure(bobRegister, cr[2])\n",
        "    qci.h(bobRegister)\n",
        "\n",
        "def bobMeasure(qci, i):\n",
        "  if i == 0:\n",
        "    # Bob measures in \"+\" (H/V)\n",
        "    qci.measure(bobRegister, cr[1])\n",
        "  else:\n",
        "    # Bob measures in \"x\" (D/A)\n",
        "    qci.h(bobRegister)\n",
        "    qci.measure(bobRegister, cr[1])"
      ],
      "metadata": {
        "id": "XNIsRE_wJ2Jt"
      },
      "execution_count": null,
      "outputs": []
    },
    {
      "cell_type": "markdown",
      "source": [
        "# Actual code"
      ],
      "metadata": {
        "id": "c510oXMiobaZ"
      }
    },
    {
      "cell_type": "code",
      "source": [
        "# Variables\n",
        "n = 1000\n",
        "eve_present = 0 # 0 no, 1 yes"
      ],
      "metadata": {
        "id": "6AYiKpp3ofdA"
      },
      "execution_count": null,
      "outputs": []
    },
    {
      "cell_type": "code",
      "source": [
        "aliceBases = \"\"\n",
        "eveBases = \"\"\n",
        "bobBases = \"\"\n",
        "aliceMeasurements = \"\"\n",
        "eveMeasurements = \"\"\n",
        "bobMeasurements = \"\"\n",
        "\n",
        "for i in range(n):\n",
        "  # Make circuit\n",
        "  aliceRegister = QuantumRegister(1) # Alice has qr[0], Bob has qr[1]\n",
        "  bobRegister = QuantumRegister(1)\n",
        "  cr = ClassicalRegister(3)\n",
        "  qc = QuantumCircuit(aliceRegister, bobRegister, cr)\n",
        "  makeBell(qc)\n",
        "\n",
        "  # Measure\n",
        "  a = np.random.randint(0, 2)\n",
        "  aliceBases += str(a)\n",
        "  b = np.random.randint(0, 2)\n",
        "  bobBases += str(b)\n",
        "  aliceMeasure(qc, a)\n",
        "\n",
        "  if eve_present == 1:\n",
        "    e = np.random.randint(0, 2)\n",
        "    eveBases += str(e)\n",
        "    eveMeasure(qc, e)\n",
        "\n",
        "  bobMeasure(qc, b)\n",
        "\n",
        "  # Get actual values\n",
        "  backend = Aer.get_backend('qasm_simulator')\n",
        "  counts= backend.run(qc, shots=1).result().get_counts(qc)\n",
        "  bitstring = list(counts.keys())[0]\n",
        "  if eve_present == 1:\n",
        "    eveMeasurements += bitstring[0]\n",
        "  aliceMeasurements += bitstring[2]\n",
        "  bobMeasurements += bitstring[1]\n",
        "\n",
        "print(\"Alice's bases:\" + str(aliceBases))\n",
        "print(\"Eve's bases  :\" + str(eveBases))\n",
        "print(\"Bob's bases  :\" + str(bobBases))\n",
        "print(aliceMeasurements)\n",
        "print(eveMeasurements)\n",
        "print(bobMeasurements)"
      ],
      "metadata": {
        "colab": {
          "base_uri": "https://localhost:8080/"
        },
        "id": "EAKvPThSJpeF",
        "outputId": "3476387f-5ba6-4ae1-bb63-d513c8d9cb18"
      },
      "execution_count": null,
      "outputs": [
        {
          "output_type": "stream",
          "name": "stdout",
          "text": [
            "Alice's bases:0001001010010010101001010111011011010010011011001010111000111011110101010101110101001011010110011011000000001111000101011010011111010111101111101101000010111101010010101100110000110111110100111010110100000011110110000001001011110111111000010110110111110001011101111100101100010111100110100110101110100010111110110110110000010000001011010000111111010111101111101101011111010000011000010000010101111101001010101001101011000110111011011011011000001101010000001110000001001000001000000001101011001010111010111011101100010110010011111111000111010101110110000111111110110110010010110101000111111101110101111111010010110000010101001111001000011100111001011000011001101111011100100000110111000100100000011001000111101000110000010011111111100111111011101111110000100111010111100110101100111110011110010001000111001110000010000101001110101001110111000111101100000010000011001100011000010001001000011110100011001110110101001101101000010001110100101100000000011101001111000111010000010101010110001101110111000001\n",
            "Eve's bases  :\n",
            "Bob's bases  :0100110001110111100010000111101101001111011110111001010111110101110101110100011101000001001111010000000000100110101001000101101000101001111010001000111011101110111001011110111101111110110011100000110000100000100100100000101010010100001010000110011100010111000000100110100110100001110011101111011111000001111111011000101111001100010010001101000101100001011000010001000001010010001101001101101010001101110010001011011101001110001101001000011011100101010100011001000100000101100011001001000110000110100000111000010111010011100011000001111100100111000010011000001110001110101100010010001011000111000000001111101101111010010100111100011001111101111101110011001000111011001101101111111111010100110110010100001110000001010001010110111000010011101010011000100101110001101000001011111110010011010110101111100111001111101111011011110010100011010101010001100000010110001011100011011101110101011100011111111011100011100001011011100100110111011111110100010101101100010010000100101000000110101100100010011011010001\n",
            "0000100110110110010001100011011011001001100100101001011111010000000100001100110111000101001001001001100010001101100001101001001111000001011011011101010111011010010010101100011001101000100000101110101111011001000100000001000101111000000000001110001111111110011001110011010010101000100011111111110010010011011110000000000101011010101100101100010110000110001110101011110110100001101001011010011010110001000100100011011110110111100000100001111111101000001010101111001011000110001011110101101010001110100000111111101000101001110110111000010000011010010100111110101110101100101101010100011001110110001111100111101011001010101010101001010000110010111010111010100110000010111101001100100111011101011101000010010111101010001000101110101101110111111001001001101011000110111110000010100100001110011010100001010011011110100101110011110110110100110110110100010111001110000110111000000100010100111000011001100110011011000111010111000101010011001101111000100000011110100110011001010010100101010001111111001111100001\n",
            "\n",
            "0000010100010010011001100011001101010101100100001000011011011100000100101100110111000111000001001001100010000100100001100111111111010011001110011100100111001001010010101100010100101000100110110100101011111010010110000000000101011010000000001110000111111000001001101001010000101100110111110111110010010000011111100110000101010110110101100000100100000010101000010011101010100001111101001010110001110001100100000001011110111111110110110010111101100000001010111110001110000011101010110101001011000110111010111100110011101100110110111110000001101000000100101110001110000100110101010111010101010100011111100111000110001000101010011010010000010011111010010001100110010010111101000001100111011101011001001011010111000011101000101111101010000111111001101011111011000100100111100110100100000011011010011111010011011111000101101011010110110110010100100100011111001110001110010110000001110100101000011001100110111010000011010111000101010011001110110000100000101110111011011011101010110100101001110111100011110001\n"
          ]
        }
      ]
    },
    {
      "cell_type": "code",
      "source": [
        "sharedKeyA = \"\"\n",
        "sharedKeyB = \"\"\n",
        "\n",
        "for i in range(n):\n",
        "  if aliceBases[i] == bobBases[i]:\n",
        "    sharedKeyA += aliceMeasurements[i]\n",
        "    sharedKeyB += bobMeasurements[i]\n",
        "\n",
        "if sharedKeyA != sharedKeyB:\n",
        "  print(\"Gotcha eve\")\n",
        "elif eve_present == 1:\n",
        "  print(\"Eve was hidden\")\n",
        "else:\n",
        "  print(\"Eve not present\")\n",
        "  print(\"eve_present: \" + str(eve_present))\n",
        "\n",
        "print(sharedKeyA)\n",
        "print(sharedKeyB)"
      ],
      "metadata": {
        "colab": {
          "base_uri": "https://localhost:8080/"
        },
        "id": "m21SCEbgUoJj",
        "outputId": "07c5693b-1217-45ac-8444-265c43e54c3b"
      },
      "execution_count": null,
      "outputs": [
        {
          "output_type": "stream",
          "name": "stdout",
          "text": [
            "Eve not present\n",
            "eve_present: 0\n",
            "0011010101001111001000101010000100011011110011000000100010010001111011110110101011001010001001101011111000100000001011000001110011100010101001010111110011000111100001011010100011110100011100100011000001101111100100111100000011011001100100111010100101001111010100110001000001111010011001011011011100001010110000010011111010101100101110001011101101011001011100101001011101011110011110000110100101010110011011110011101110101010001110110001101000010001100011001110110011001000110101100010011111011001010101101110001\n",
            "0011010101001111001000101010000100011011110011000000100010010001111011110110101011001010001001101011111000100000001011000001110011100010101001010111110011000111100001011010100011110100011100100011000001101111100100111100000011011001100100111010100101001111010100110001000001111010011001011011011100001010110000010011111010101100101110001011101101011001011100101001011101011110011110000110100101010110011011110011101110101010001110110001101000010001100011001110110011001000110101100010011111011001010101101110001\n"
          ]
        }
      ]
    }
  ]
}