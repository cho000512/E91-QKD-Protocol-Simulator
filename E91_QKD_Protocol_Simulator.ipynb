{
  "cells": [
    {
      "cell_type": "markdown",
      "metadata": {
        "id": "npDjPynTSF73"
      },
      "source": [
        "# E91 QKD"
      ]
    },
    {
      "cell_type": "code",
      "execution_count": null,
      "metadata": {
        "collapsed": true,
        "id": "0-b6oPBcZvtR"
      },
      "outputs": [],
      "source": [
        "# Name: Brian Bahk\n",
        "# Name: Minjae Cho\n",
        "# Name: Elijah Olive"
      ]
    },
    {
      "cell_type": "code",
      "source": [
        "# Install qiskit\n",
        "!pip install qiskit"
      ],
      "metadata": {
        "id": "m5Mj5t6JOk9I",
        "colab": {
          "base_uri": "https://localhost:8080/"
        },
        "outputId": "456ca3af-3154-4dbf-b781-171d133c4af5"
      },
      "execution_count": null,
      "outputs": [
        {
          "output_type": "stream",
          "name": "stdout",
          "text": [
            "Collecting qiskit\n",
            "  Downloading qiskit-1.2.0-cp38-abi3-manylinux_2_17_x86_64.manylinux2014_x86_64.whl.metadata (12 kB)\n",
            "Collecting rustworkx>=0.15.0 (from qiskit)\n",
            "  Downloading rustworkx-0.15.1-cp38-abi3-manylinux_2_17_x86_64.manylinux2014_x86_64.whl.metadata (9.9 kB)\n",
            "Requirement already satisfied: numpy<3,>=1.17 in /usr/local/lib/python3.10/dist-packages (from qiskit) (1.26.4)\n",
            "Requirement already satisfied: scipy>=1.5 in /usr/local/lib/python3.10/dist-packages (from qiskit) (1.13.1)\n",
            "Requirement already satisfied: sympy>=1.3 in /usr/local/lib/python3.10/dist-packages (from qiskit) (1.13.2)\n",
            "Collecting dill>=0.3 (from qiskit)\n",
            "  Downloading dill-0.3.8-py3-none-any.whl.metadata (10 kB)\n",
            "Requirement already satisfied: python-dateutil>=2.8.0 in /usr/local/lib/python3.10/dist-packages (from qiskit) (2.8.2)\n",
            "Collecting stevedore>=3.0.0 (from qiskit)\n",
            "  Downloading stevedore-5.3.0-py3-none-any.whl.metadata (2.3 kB)\n",
            "Requirement already satisfied: typing-extensions in /usr/local/lib/python3.10/dist-packages (from qiskit) (4.12.2)\n",
            "Collecting symengine>=0.11 (from qiskit)\n",
            "  Downloading symengine-0.11.0-cp310-cp310-manylinux_2_12_x86_64.manylinux2010_x86_64.whl.metadata (1.2 kB)\n",
            "Requirement already satisfied: six>=1.5 in /usr/local/lib/python3.10/dist-packages (from python-dateutil>=2.8.0->qiskit) (1.16.0)\n",
            "Collecting pbr>=2.0.0 (from stevedore>=3.0.0->qiskit)\n",
            "  Downloading pbr-6.1.0-py2.py3-none-any.whl.metadata (3.4 kB)\n",
            "Requirement already satisfied: mpmath<1.4,>=1.1.0 in /usr/local/lib/python3.10/dist-packages (from sympy>=1.3->qiskit) (1.3.0)\n",
            "Downloading qiskit-1.2.0-cp38-abi3-manylinux_2_17_x86_64.manylinux2014_x86_64.whl (4.8 MB)\n",
            "\u001b[2K   \u001b[90m━━━━━━━━━━━━━━━━━━━━━━━━━━━━━━━━━━━━━━━━\u001b[0m \u001b[32m4.8/4.8 MB\u001b[0m \u001b[31m20.3 MB/s\u001b[0m eta \u001b[36m0:00:00\u001b[0m\n",
            "\u001b[?25hDownloading dill-0.3.8-py3-none-any.whl (116 kB)\n",
            "\u001b[2K   \u001b[90m━━━━━━━━━━━━━━━━━━━━━━━━━━━━━━━━━━━━━━━━\u001b[0m \u001b[32m116.3/116.3 kB\u001b[0m \u001b[31m5.9 MB/s\u001b[0m eta \u001b[36m0:00:00\u001b[0m\n",
            "\u001b[?25hDownloading rustworkx-0.15.1-cp38-abi3-manylinux_2_17_x86_64.manylinux2014_x86_64.whl (2.0 MB)\n",
            "\u001b[2K   \u001b[90m━━━━━━━━━━━━━━━━━━━━━━━━━━━━━━━━━━━━━━━━\u001b[0m \u001b[32m2.0/2.0 MB\u001b[0m \u001b[31m14.4 MB/s\u001b[0m eta \u001b[36m0:00:00\u001b[0m\n",
            "\u001b[?25hDownloading stevedore-5.3.0-py3-none-any.whl (49 kB)\n",
            "\u001b[2K   \u001b[90m━━━━━━━━━━━━━━━━━━━━━━━━━━━━━━━━━━━━━━━━\u001b[0m \u001b[32m49.7/49.7 kB\u001b[0m \u001b[31m2.1 MB/s\u001b[0m eta \u001b[36m0:00:00\u001b[0m\n",
            "\u001b[?25hDownloading symengine-0.11.0-cp310-cp310-manylinux_2_12_x86_64.manylinux2010_x86_64.whl (39.4 MB)\n",
            "\u001b[2K   \u001b[90m━━━━━━━━━━━━━━━━━━━━━━━━━━━━━━━━━━━━━━━━\u001b[0m \u001b[32m39.4/39.4 MB\u001b[0m \u001b[31m12.7 MB/s\u001b[0m eta \u001b[36m0:00:00\u001b[0m\n",
            "\u001b[?25hDownloading pbr-6.1.0-py2.py3-none-any.whl (108 kB)\n",
            "\u001b[2K   \u001b[90m━━━━━━━━━━━━━━━━━━━━━━━━━━━━━━━━━━━━━━━━\u001b[0m \u001b[32m108.5/108.5 kB\u001b[0m \u001b[31m1.8 MB/s\u001b[0m eta \u001b[36m0:00:00\u001b[0m\n",
            "\u001b[?25hInstalling collected packages: symengine, rustworkx, pbr, dill, stevedore, qiskit\n",
            "Successfully installed dill-0.3.8 pbr-6.1.0 qiskit-1.2.0 rustworkx-0.15.1 stevedore-5.3.0 symengine-0.11.0\n"
          ]
        }
      ]
    },
    {
      "cell_type": "code",
      "source": [
        "#@title #QC\n",
        "\n",
        "from qiskit import QuantumCircuit\n",
        "from qiskit.primitives.sampler import Sampler\n",
        "import random\n",
        "import numpy as np\n",
        "\n",
        "class InputError(Exception):\n",
        "    def __int__(self, expression, message):\n",
        "        self.expression = expression\n",
        "        self.message = message\n",
        "\n",
        "class QC:\n",
        "\n",
        "    def __init__(self):\n",
        "        self.qc = QuantumCircuit(2, 2)\n",
        "\n",
        "        # Create a Psi- state\n",
        "        self.qc.h(1)\n",
        "        self.qc.cx(1, 0)\n",
        "        self.qc.x(1)\n",
        "        self.qc.z(1)\n",
        "\n",
        "        self.measured = 0\n",
        "\n",
        "        self.alice_alpha = 0\n",
        "        self.alice_beta = 0\n",
        "        self.bob_alpha = 0\n",
        "        self.bob_beta = 0\n",
        "\n",
        "    def prepareHV(self):\n",
        "        # Add a measurement to both qubits\n",
        "        self.qc.measure([0, 1], [0, 1])\n",
        "\n",
        "        # Execute using the Sampler primitive\n",
        "        sampler = Sampler()\n",
        "        job = sampler.run(self.qc, shots=1)\n",
        "        result = job.result()\n",
        "        ab = int(str(result.quasi_dists[0])[1])\n",
        "        if ab == 1:\n",
        "            self.alice_alpha = 1\n",
        "            self.alice_beta  = 0\n",
        "            self.bob_alpha = 0\n",
        "            self.bob_beta  = 1\n",
        "        elif ab == 2:\n",
        "            self.alice_alpha = 0\n",
        "            self.alice_beta  = 1\n",
        "            self.bob_alpha = 1\n",
        "            self.bob_beta  = 0\n",
        "\n",
        "    def prepareDA(self):\n",
        "        # Put hadamard before measuring to measure in D/A basis\n",
        "        self.qc.h(0)\n",
        "        self.qc.h(1)\n",
        "\n",
        "        # Add a measurement to both qubits\n",
        "        self.qc.measure([0, 1], [0, 1])\n",
        "\n",
        "        # Execute using the Sampler primitive\n",
        "        sampler = Sampler()\n",
        "        job = sampler.run(self.qc, shots=1)\n",
        "        result = job.result()\n",
        "        ab = int(str(result.quasi_dists[0])[1])\n",
        "        # Psi- = 1/2sqrt2 * (|AD> - |DA>)\n",
        "        if ab == 1: # 01; DA\n",
        "            self.alice_alpha = 1/np.sqrt(2)\n",
        "            self.alice_beta  = 1/np.sqrt(2)\n",
        "            self.bob_alpha = 1/np.sqrt(2)\n",
        "            self.bob_beta  = -1/np.sqrt(2)\n",
        "        elif ab == 2: # 10; AD\n",
        "            self.alice_alpha = 1/np.sqrt(2)\n",
        "            self.alice_beta  = -1/np.sqrt(2)\n",
        "            self.bob_alpha = 1/np.sqrt(2)\n",
        "            self.bob_beta  = 1/np.sqrt(2)\n",
        "\n",
        "    # Call after preparing (aka measuring one of the qubits)\n",
        "    def getAliceKeyHV(self, probDarkCount):\n",
        "        if self.measured == 0:\n",
        "            QC.prepareHV(self)\n",
        "            self.measured = 1\n",
        "\n",
        "        if self.alice_alpha == 1 and self.alice_beta == 0:\n",
        "            return \"H\"\n",
        "        elif self.alice_alpha == 0 and self.alice_beta == 1:\n",
        "            return \"V\"\n",
        "        else:\n",
        "            return \"N\"\n",
        "\n",
        "    def getAliceKeyDA(self, probDarkCount):\n",
        "        if self.measured == 0:\n",
        "            QC.prepareDA(self)\n",
        "            self.measured = 1\n",
        "\n",
        "        if self.alice_alpha == 1/np.sqrt(2) and self.alice_beta == 1/np.sqrt(2):\n",
        "            return \"D\"\n",
        "        elif self.alice_alpha == 1/np.sqrt(2) and self.alice_beta == -1/np.sqrt(2):\n",
        "            return \"A\"\n",
        "        else:\n",
        "            return \"N\"\n",
        "\n",
        "    def measureHV(self, probDarkCount):\n",
        "        if self.bob_alpha == 1 and self.bob_beta == 0:\n",
        "            return \"H\"\n",
        "        elif self.bob_alpha == 0 and self.bob_beta == 1:\n",
        "            return \"V\"\n",
        "        else:\n",
        "            return \"N\"\n",
        "\n",
        "    def measureDA(self, probDarkCount):\n",
        "        if self.bob_alpha == 1/np.sqrt(2) and self.bob_beta == 1/np.sqrt(2):\n",
        "            return \"D\"\n",
        "        elif self.bob_alpha == 1/np.sqrt(2) and self.bob_beta == -1/np.sqrt(2):\n",
        "            return \"A\"\n",
        "        else:\n",
        "            return \"N\"\n",
        "\n",
        "    def eveSendH(self):\n",
        "        self.bob_alpha = 1\n",
        "        self.bob_beta  = 0\n",
        "\n",
        "    def eveSendV(self):\n",
        "        self.bob_alpha = 0\n",
        "        self.bob_beta  = 1\n",
        "\n",
        "    def eveSendD(self):\n",
        "        self.bob_alpha = 1/np.sqrt(2)\n",
        "        self.bob_beta  = 1/np.sqrt(2)\n",
        "\n",
        "    def eveSendA(self):\n",
        "        self.bob_alpha = 1/np.sqrt(2)\n",
        "        self.bob_beta  = -1/np.sqrt(2)\n",
        "    def bell_measurement(self, basis_a, basis_b):\n",
        "        # Reset the circuit to start fresh for each measurement\n",
        "        self.qc.reset([0, 1])\n",
        "\n",
        "        # Prepare the Psi- state\n",
        "        self.qc.h(1)\n",
        "        self.qc.cx(1, 0)\n",
        "        self.qc.x(1)\n",
        "        self.qc.z(1)\n",
        "\n",
        "        # Apply basis change depending on input\n",
        "        if basis_a == 'D' or basis_a == 'A':\n",
        "            self.qc.h(0)  # Hadamard on Alice's qubit for D/A basis\n",
        "        if basis_b == 'D' or basis_b == 'A':\n",
        "            self.qc.h(1)  # Hadamard on Bob's qubit for D/A basis\n",
        "\n",
        "        # Measure\n",
        "        self.qc.measure([0, 1], [0, 1])\n",
        "\n",
        "        # Execute the circuit\n",
        "        sampler = Sampler()\n",
        "        job = sampler.run(self.qc, shots=1)\n",
        "        result = job.result()\n",
        "        ab = int(str(result.quasi_dists[0])[1])  # Extract the result\n",
        "        return ab\n",
        "    def calculate_correlations(self, shots=1000):\n",
        "      settings = [('H', 'V'), ('H', 'D'), ('D', 'V'), ('D', 'D')]\n",
        "      results = {setting: 0 for setting in settings}\n",
        "      for _ in range(shots):\n",
        "        for setting in settings:\n",
        "            results[setting] += self.bell_measurement(*setting)\n",
        "      return results"
      ],
      "metadata": {
        "id": "WaeR0nlmVPU6"
      },
      "execution_count": null,
      "outputs": []
    },
    {
      "cell_type": "code",
      "execution_count": null,
      "metadata": {
        "collapsed": true,
        "id": "2jzAiZ34ZvtX"
      },
      "outputs": [],
      "source": [
        "n = 1000 # number of photons"
      ]
    },
    {
      "cell_type": "code",
      "source": [
        "qcArray = [QC() for i in range(n)]"
      ],
      "metadata": {
        "id": "MskeUrgKR-E6"
      },
      "execution_count": null,
      "outputs": []
    },
    {
      "cell_type": "code",
      "source": [
        "# Eve selects a subsample of photons from Alice to measure.\n",
        "# interceptIndex should be a string of n characters.\n",
        "# Use the convention '0'=ignored, '1'=intercepted\n",
        "interceptIndex = \"\"\n",
        "# TODO: Put your code here.\n",
        "for i in range(n):\n",
        "  if random.randint(0,1) == 0:\n",
        "    interceptIndex += \"0\"\n",
        "  else:\n",
        "    interceptIndex += \"1\"\n",
        "print(interceptIndex)"
      ],
      "metadata": {
        "id": "d9o_L4z5aJin",
        "colab": {
          "base_uri": "https://localhost:8080/"
        },
        "outputId": "a5b9830e-834c-4161-9884-076c58c2ea4e"
      },
      "execution_count": null,
      "outputs": [
        {
          "output_type": "stream",
          "name": "stdout",
          "text": [
            "0011100011100110111110100110000100110100110101010000000000001001101011101111110001011000000100011110000010011000000111110110111000001110001011100000010100010001111100010100000110011000111100101110010011110101101110000101110101101011100011101111010001000001011011100110100110111001101111000111011000011111101100001100100101111110100110011111010111110100111111111111110101110110000001010011000100000110100110011000011011010110000011000001111001010101010111010100010110100010111011000000001010001110010100001100000010000111111101011000001000011000100101010110101111101110101001010100011111100110000100001110110111101010001110100110111110101000000010111111100000011100011101001001001101100101000110001101111101111111000100001110011001111010000101110001100011101011000001011111010011010111111011010111111000011001101000011100011010011110100001011011010000011011110101001101010000011001011010011100000001111110110001101110010001011101101110100110010100001111101100011000000100010111001000111010110010110000\n"
          ]
        }
      ]
    },
    {
      "cell_type": "code",
      "source": [
        "# Eve chooses a basis to measure each intercepted photon.\n",
        "# basisEve should be a string of n characters.\n",
        "# Use the convention '+'=H/V, 'x'=D/A, ' '=not measured\n",
        "basisEve = \"\"\n",
        "# TODO: Put your code here.\n",
        "for i in range(n):\n",
        "  if interceptIndex[i] == '1':\n",
        "    if random.randint(0,1) == 0:\n",
        "      basisEve += \"+\"\n",
        "    else:\n",
        "      basisEve += \"x\"\n",
        "  else:\n",
        "    basisEve += ' '\n",
        "print(basisEve)"
      ],
      "metadata": {
        "id": "nlNNyBISaLN6",
        "colab": {
          "base_uri": "https://localhost:8080/"
        },
        "outputId": "4e277397-04af-4da2-d69e-3604d2fa1e43"
      },
      "execution_count": null,
      "outputs": [
        {
          "output_type": "stream",
          "name": "stdout",
          "text": [
            "  xxx   xxx  x+ +++xx +  +x    +  +x x  xx + x x            +  xx x ++x xx++xx   + +x      x   x+x+     +  +x      +x+x+ +x +++     +x+   x x+x      + x   +   xxx++   + x     +x  x+   x++x  x +++  x  xx+x + xx x+x    + xxx + x+ + xxx   x+x ++++ x   +     x ++ xx+  ++ x  ++ +x+  xx ++x+   +++ xx    x+++xx +x    ++  +  + +++xxx x  x+  x+x+x x xx+++ +  x+xxxx++x+xx++ + ++x xx      x +  ++   +     xx +  ++  xx    ++ ++ x xx     +x     xx+x  x + x + x xx+ + +   x x+ x   x xx+ xx        x +   xxx  x x    x+      x    +xx+xxx x x+     +    x+   x  + + x x+ + ++x+x +xx + +  x + +   xxxxxx  x+    x    ++x ++ x+xx x +   ++x +  xx +++x+ x +       + xxx+xx+      xxx   +x+ +  +  x  x+ +x  + +   +x   x+ +x+xx ++++x++   x    xxx  +x  xxxx +    + x++   xx   +x+ + xx     x +x+++ x  +x + +x+xxx x+ x xx+xx+    xx  xx +    xx+   xx +  ++xx x    x ++ x+ +     ++ xx+x + +  +x x x     xx  + ++ +  +xx       ++++xx +x   +x +++  +   x ++x x+ ++x +  xx  x +    +xxxx ++   ++      +   x x+x  +   +x+ + x+  + xx    \n"
          ]
        }
      ]
    },
    {
      "cell_type": "code",
      "source": [
        "# Eve performs a measurement on each photon.\n",
        "# outcomeEve should be a string of n characters.\n",
        "# Use the convention 'H','V','D','A', ' '=not measured\n",
        "outcomeEve = \"\"\n",
        "# TODO: Put your code here.\n",
        "for i in range(n):\n",
        "    if basisEve[i] == '+':\n",
        "        outcomeEve += QC.getAliceKeyHV(qcArray[i], .5)\n",
        "    elif basisEve[i] == 'x':\n",
        "        outcomeEve += QC.getAliceKeyDA(qcArray[i], .5)\n",
        "    else:\n",
        "      outcomeEve += ' '\n",
        "print(outcomeEve)"
      ],
      "metadata": {
        "id": "C_Key360aMkC",
        "colab": {
          "base_uri": "https://localhost:8080/"
        },
        "outputId": "aa77d570-5fed-4897-8cf1-88d9070bd50e"
      },
      "execution_count": null,
      "outputs": [
        {
          "output_type": "stream",
          "name": "stderr",
          "text": [
            "<ipython-input-3-bf18f3a66c6f>:60: DeprecationWarning: The class ``qiskit.primitives.sampler.Sampler`` is deprecated as of qiskit 1.2. It will be removed no earlier than 3 months after the release date. All implementations of the `BaseSamplerV1` interface have been deprecated in favor of their V2 counterparts. The V2 alternative for the `Sampler` class is `StatevectorSampler`.\n",
            "  sampler = Sampler()\n",
            "<ipython-input-3-bf18f3a66c6f>:36: DeprecationWarning: The class ``qiskit.primitives.sampler.Sampler`` is deprecated as of qiskit 1.2. It will be removed no earlier than 3 months after the release date. All implementations of the `BaseSamplerV1` interface have been deprecated in favor of their V2 counterparts. The V2 alternative for the `Sampler` class is `StatevectorSampler`.\n",
            "  sampler = Sampler()\n"
          ]
        },
        {
          "output_type": "stream",
          "name": "stdout",
          "text": [
            "  DAD   AAA  AV VHHAD H  HA    V  HD A  DA V A A            V  DD A VVD DDVHDD   V VA      D   AHAV     V  HD      HDHAH VD VHH     HAV   A DVD      H A   H   DAAVH   H A     HA  AH   AHHD  A VVH  D  ADHA V DA DHD    H AAD V DV H AAD   AVD VHVV A   H     D VH AAH  VH D  VH HDV  AD HVAV   HHH DD    DHVHDA VD    VH  V  V VHVDAA D  DH  AHDHA A AAVHH V  DVDDADVHAHDAVV H HHA AD      D V  HV   V     DD H  VV  AA    VV VH D AD     VA     AAVD  D H A H A ADH V V   A AV A   D DDH DA        A V   AAA  D A    DH      D    VAAHADA A AH     V    DV   A  V H D DV H HVAVD HAD H H  A H V   ADAAAD  DV    A    VVA HH DVDD A V   HHD H  AA VVVAH A H       V DAAHDAV      ADD   HAH H  H  A  DH HA  V H   VA   DV HAHDD VVVHAHH   A    DAD  HD  ADAD V    H DHV   DA   HDH H AA     A HAHVH A  VA V HDVDDA DV A DAVADH    DA  AD V    ADH   DA V  HVDA A    D VH AV H     HH DAHA V V  VD D A     DA  H VV H  HDA       VVVVAD HD   HD HVH  H   D VVA DV VHA H  AA  D H    HAAAA VV   VV      V   D AHD  H   HDV V DV  H AA    \n"
          ]
        }
      ]
    },
    {
      "cell_type": "code",
      "source": [
        "# # Eve resends photons to Bob.\n",
        "# # Be sure to handle the cases in which Eve gets an invalid measurement.\n",
        "# # TODO: Put your code here.\n",
        "# for i in range(n):\n",
        "#   if outcomeEve[i] == \"H\":\n",
        "#     QC.eveSendH(qcArray[i])\n",
        "#   elif outcomeEve[i] == \"V\":\n",
        "#     QC.eveSendV(qcArray[i])\n",
        "#   elif outcomeEve[i] == \"D\":\n",
        "#     QC.eveSendD(qcArray[i])\n",
        "#   elif outcomeEve[i] == \"A\":\n",
        "#     QC.eveSendA(qcArray[i])\n",
        "#   elif outcomeEve[i] == \"N\" or outcomeEve[i] == 'M':\n",
        "#     chooseRand = random.randint(0, 3)\n",
        "#     if chooseRand == 0:\n",
        "#       QC.eveSendH(qcArray[i])\n",
        "#     elif chooseRand == 1:\n",
        "#       QC.eveSendV(qcArray[i])\n",
        "#     elif chooseRand == 2:\n",
        "#       QC.eveSendD(qcArray[i])\n",
        "#     elif chooseRand == 3:\n",
        "#       QC.eveSendA(qcArray[i])\n",
        "#     #send random if N also choose based off of outcome if blank no change"
      ],
      "metadata": {
        "id": "5Goe-EFwaOO4"
      },
      "execution_count": null,
      "outputs": []
    },
    {
      "cell_type": "code",
      "execution_count": null,
      "metadata": {
        "id": "Z2BvWiy6ZvtY",
        "colab": {
          "base_uri": "https://localhost:8080/"
        },
        "outputId": "21ad2931-bf39-4080-a531-3e5ec3210a2d"
      },
      "outputs": [
        {
          "output_type": "stream",
          "name": "stdout",
          "text": [
            "basisAlice  = xxx++xxx+++x++x+x++xx+xxxx+x+xx+++xxx+x+x+++xxxxx+x+xxx+xx+x+xx+xx+++x++xx+xx+x+xx++xxxx+++++xxxx++xxx++xxxxxx+x+x+x+++xxxx+xx++x+++++xxx+xx+xx++xx+x+++xxx++++x++x++xx+x++x+x++xx+++++xxxxx+xxx+x+xx+xx+++++x+x+xx+x+x+xxx+xx+xxx++++xx++x+x++xxxx++x+++++xx+++++xxxx+xxxx+xxx+++++x+x+xxxx+xxx++xx++x+x+x+x+x++x++xxxxx+xxx++x++xx+++xxx+x+x++x+xx+x++xxx++xxx++x+x++xxxx++++xxx+x++++xx+xx+xx++x++x++++x+x+++x++xx++x+xx+x+x++++xxx+xx++xx+++xxx+++xx+xx+xxx+++xx+x+x+xxxx+xx+++++x++xxxx+++++++++++xx++xx+xx++++xxxxxx+++++xxx+++++xxxx+x+x+++xx+++x+xxx+xxx++++x+xxxx+++++x+x+x+++xx+++xxxxx++++++xx++++++x+x+x++xxxxxx++xx++xxxx++xx+xxx++x+x++x+x++xxxxx+++x++x+xx++x+++xx+xx+xx++xx++xxx+x+++++xxx+++x+xxxxx+xxx+xxxxx++xxxxxx+xx++xxxx+x++x+x+++x++xxx+xxx++x+xx++x+xxx+xx++xx+x+xx+xx+xxx+++xxxx++xxx+++x++xx++xxxxxx++x+++++++xxxx+++xx+x+++++x++xx++xxxx++++x+++++x+x++x+xx+xx+++xxx++++x++x++xxx++x+xxx+xx++x+xxxxx++x++x++xxx+++xxxx+x+xx+xx+++xxxxx+x+x+++++++xx++xxx+xxx++x++xxxx+++x+xxx++xxx+x+x+x+x+xx+++xx+xx++x+++x\n"
          ]
        }
      ],
      "source": [
        "# Alice chooses the encoding basis for each key bit.\n",
        "# This should be a string of '+'s and 'x's with '+'=H/V, 'x'=D/A.\n",
        "basisAlice = \"\"\n",
        "for index in range(n):\n",
        "  if random.randint(0,1) == 0:\n",
        "    basisAlice += \"+\"\n",
        "  else:\n",
        "    basisAlice += \"x\"\n",
        "print(\"basisAlice  = \" + basisAlice)"
      ]
    },
    {
      "cell_type": "code",
      "execution_count": null,
      "metadata": {
        "collapsed": true,
        "id": "PP3VzSuwZvtY",
        "colab": {
          "base_uri": "https://localhost:8080/"
        },
        "outputId": "8c081bcc-8210-4171-86d5-30973db27d43"
      },
      "outputs": [
        {
          "output_type": "stream",
          "name": "stderr",
          "text": [
            "<ipython-input-3-bf18f3a66c6f>:60: DeprecationWarning: The class ``qiskit.primitives.sampler.Sampler`` is deprecated as of qiskit 1.2. It will be removed no earlier than 3 months after the release date. All implementations of the `BaseSamplerV1` interface have been deprecated in favor of their V2 counterparts. The V2 alternative for the `Sampler` class is `StatevectorSampler`.\n",
            "  sampler = Sampler()\n",
            "<ipython-input-3-bf18f3a66c6f>:36: DeprecationWarning: The class ``qiskit.primitives.sampler.Sampler`` is deprecated as of qiskit 1.2. It will be removed no earlier than 3 months after the release date. All implementations of the `BaseSamplerV1` interface have been deprecated in favor of their V2 counterparts. The V2 alternative for the `Sampler` class is `StatevectorSampler`.\n",
            "  sampler = Sampler()\n"
          ]
        },
        {
          "output_type": "stream",
          "name": "stdout",
          "text": [
            "keyAlice  = DDDNNDADNNNDVNNHNHHADVNDDNNAVDAVHHNDANAVDNHVAADADHDHDDDHDDHDVDANDANVVNNVDDVNDNAHDNHVAAADHHHNVADANNVADAHHNDANDDHDVAVNNHNNANDVNNHVDVVVHNNAAHADNNDVVDDVAHHNAADHVVHDNNNHVAAHANHDVDVHADHNHVHAANNDVAADVNHDANAANNHNHNHDNADHDHDVDNANADHNDDVVHVAANVDHAVNANNNVVAHHHHVDDHVNVVNDAAHAANNHDAAVHVHNNVANDANNNNAAVHNNVNDVAVANNVNNNAVNADDDNHAANVHNHVNNNNNDDDVDHAHNNNNAVAVNANNHHNAANVDNANVNANDNVVHNDNHAVNNVADHAANANVHNVHDHVHHDHDNNVNVHNNVVANDDVDVNHVHVDAANDAHVANNHHADDNNVDDHDDHDAAHHNDANNHNHNAAANDAVVNVVANVDDNANNVHHVHVVVNDNVVAANADHNVNDDAADNVHVHVDDAVHHVNANADNDNDNHHDAVVVAVAADVADANVVVDHADADVVHVHNNNNAHNNDNVHHDADNAVHHHNNAANNVVNVDVDVAHVDANNADHHDDVNDAADVHADHNDDHHANAVVNVAHHADNDAHHVAVVDNAAHNAVHVDAHDANDDVVNAHVNDDHAVNHHNNDNNVHNVNDAANNADDNNDNANNNDNNNNAHNDHHADDDVDNNDHNNHHANNDDNHDDDHVDHNDHVDNAAAHDNVHAANDHDDVADHANNHVNADNAHVANDVNNAHNNDNVDANADNVVAVNNVHNNANAAHHNDNHAVNNHVDVHNDNHADDAVNVVNVNVHHDVDVHNHADNNAVVHNDAVNVNDNHDHHADAVHNVNNAHDAHNAVAAAADVVNVVANVNDAHVHDDNNHAHNDHDDVVVADDNDVNNDHVVNNHVDAHHDDAHAAANHNVHADNNHVHAVDNAVHDAAHDVDHAHAHDNHVHDNVDNHNAHVVA\n"
          ]
        }
      ],
      "source": [
        "# Alice measures Bell State based on chosen basis\n",
        "# Alice gets the raw key.\n",
        "polarizationAlice = \"\"\n",
        "for i in range(n):\n",
        "  if basisAlice[i] == \"+\":\n",
        "    polarizationAlice += QC.getAliceKeyHV(qcArray[i], .5)\n",
        "  elif basisAlice[i] == \"x\":\n",
        "    polarizationAlice += QC.getAliceKeyDA(qcArray[i], .5)\n",
        "print(\"keyAlice  = \" + polarizationAlice)"
      ]
    },
    {
      "cell_type": "code",
      "execution_count": null,
      "metadata": {
        "id": "XE8OzBqlZvtY"
      },
      "outputs": [],
      "source": [
        "\n",
        "# for i in range(n):\n",
        "#   if basisAlice[i] == \"+\":\n",
        "#     polarizationAlice += QC.getAliceKeyHV(qcArray[i], .5)\n",
        "#   elif basisAlice[i] == \"x\":\n",
        "#     polarizationAlice += QC.getAliceKeyDA(qcArray[i], .5)\n"
      ]
    },
    {
      "cell_type": "code",
      "source": [
        "# Alice infers the raw key.\n",
        "# keyAlice should be a string of n characters.\n",
        "# Use the convention '0', '1', '-'=invalid measurement\n",
        "keyAlice = \"\"\n",
        "# TODO: Put your code here.\n",
        "for i in range(n):\n",
        "    if basisAlice[i] == '+':\n",
        "        if polarizationAlice[i] == 'H':\n",
        "            keyAlice += '0'\n",
        "        elif polarizationAlice[i] == 'V':\n",
        "            keyAlice += '1'\n",
        "        else:\n",
        "            keyAlice += '-'\n",
        "    elif basisAlice[i] == 'x':\n",
        "        if polarizationAlice[i] == 'D':\n",
        "            keyAlice += '0'\n",
        "        elif polarizationAlice[i] == 'A':\n",
        "            keyAlice += '1'\n",
        "        else:\n",
        "            keyAlice += '-'\n",
        "print(\"keyAlice      = \" + keyAlice)"
      ],
      "metadata": {
        "id": "HEif9KyewRei",
        "colab": {
          "base_uri": "https://localhost:8080/"
        },
        "outputId": "f2b6c834-5b89-4ce4-c8a7-8642a37b3e33"
      },
      "execution_count": null,
      "outputs": [
        {
          "output_type": "stream",
          "name": "stdout",
          "text": [
            "keyAlice      = 000--010---01--0-00101-00--1101100-01-110-011101000000000000101-01-11--1001-0-100-011110000-1101--110100-01-0000111--0--1-01--0101110--11010--011001100-11001100---011101-001010100-01011--011101-001-11--0-0-00-10000010-1-100-00110111-10011-1---111000010001-11-011011--00111010--11-01----1110--1-01111--1---11-1000-011-10-01-----00010010----1111-1--00-11-10-1-1-1-0-110-0-011--110011-1-10-1000100000--1-10--111-00101-0101011-01011--00100--100000001100-01--0-0-111-0111-111-100-1--10010111-0-1111-100-1-00110-101010011001-1-10-0-0-0001111111101101-11100101011010----10--0-100010-11000--11--11-1010110101--1000001-011010100-00001-111-110010-010011110-110-110101001-0011-101-00011-00--0--10-1-011--100--0-1---0----10-000100010--00--001--00-00000100-0010-11100-1011-000011001--01-10-1011-01--10--0-101-10-1111--10--1-1100-0-011--01010-0-010011-11-1-10001010-010--1110-011-1-0-000010110-1--10010-111111011-111-1-0101000--010-0000111100-01--0011--0101000010111-0-1010--010110-1100110010010100-0100-10-0-10111\n"
          ]
        }
      ]
    },
    {
      "cell_type": "code",
      "execution_count": null,
      "metadata": {
        "id": "nXuROD_KZvta",
        "colab": {
          "base_uri": "https://localhost:8080/"
        },
        "outputId": "ee12f247-4530-4532-e946-887802213ad5"
      },
      "outputs": [
        {
          "output_type": "stream",
          "name": "stdout",
          "text": [
            "basisBob    = ++xxxxxx+x+++++xx+x++x+xxxxxx+xxx+xx++xxx+xx+xxx++xxx+x+xx++x++x+x+x++x+x+xx++++xxxx++xx+xx+++x++x+xxxxxx+x+++x++++xx+xx++xxxx+++x+x+x++xx+x+x++xxxxx+x++x+++x+++x++x+xx++++x++x+x+xxx++x+x+x++x+x++xx+xx+++x++x++++xx++xxx++xx+xxx+++++xxx++++++x+x+++++xxx++xx+xxx+++xx++x++x+x++xx++xxx+xx++xx+x++x++x++xxx+xx+x++++++x+xxx+xxxxx++x++x+xxx+xxx+++xxx+x+xx+xxx++x++xx++xxx++xxx++xxx+xx+xxx+xx+++xx++x+x+++x+xx++xxx+x+x+x++x++xxxx+x+x++xxx++xxxx++x+x+++xxx+x++++xx+xx+xxxx++xx+x++xx++xxxxxx+xxx+xx++x+x++xxxx+x+xxxx+xxxx+++xxx++xx++xx+xxxx+xxx++xxx++++xxxx+x+++x+xx+xx++x+x++x+x+++x+x++xxx+xxxxx++xx++x+++xx+xx+++xxxxxxx++x+xx+++xx+x+x+x++x+++xxxx+x++x++x+++xx++xx+x++++x++x++x+x+xxx+xxxxxx++xx+x++x+xxxxxx+++++xxxxx+++xxx+xxx+xxx+++xxx+++xx+x++xx++++xxx+xxxxx+++x+xx+xxx+xx+xx++x+++xx++xx+++x++x+x+xxxxx++x++++xx+x+x+++xx++x++x+++++++x++xxxx+xxx+++xx+xxx+x+++x++xxx+++xx++xxx+xx+++++x+++xx++++x++++++++xx+xx++xxx++x++++++xx+++++xx+x++x++++x+x+++xx+++xxxxxxx++xxxx++++x+x++xxxxx+++x+x+x+x++x+xx+++++xx++++xxx\n"
          ]
        }
      ],
      "source": [
        "# Bob   --------------------------------------------\n",
        "\n",
        "# Bob chooses a basis to measure each photon.\n",
        "# This should be a string of '+'s and 'x's with '+'=H/V, 'x'=D/A.\n",
        "basisBob = \"\"\n",
        "for index in range(n):\n",
        "  if random.randint(0,1) == 0:\n",
        "    basisBob += \"+\"\n",
        "  else:\n",
        "    basisBob += \"x\"\n",
        "\n",
        "print(\"basisBob    = \" + basisBob)"
      ]
    },
    {
      "cell_type": "code",
      "execution_count": null,
      "metadata": {
        "id": "EJop8vFvZvta",
        "colab": {
          "base_uri": "https://localhost:8080/"
        },
        "outputId": "f85a9e95-2b6c-4bd4-a07a-d95c07631cb0"
      },
      "outputs": [
        {
          "output_type": "stream",
          "name": "stdout",
          "text": [
            "outcomeBob  = NNADAADANDNNHNHNNVNNNNVAANDDNNDNNVNANNDNANNNNDADNVANANAVAAVNNNNANDNNHHAHANNNNNNVANNNNNDAVNNNHNANVDHDADNNNNDVNNNNHNHNAVDNNHANNNVHNNHNVDHNDNNANNNHNAANDVNNNDNVHNVNNDHVNNDNNNVNNNHNNAVDNNVNDVNNNNNAHNVNDANDDNVNNHVANNNVANNHANDNNANHAANHVHNNANAVNHNNHNHNHNVVVNNANVNAHNNANNVDDHVNNNDHNHVANHNDADVNDHNDNVNVHANHDHNANNVADNNNNNNNHNNDNNVNNNNNNNDNNAHANDVDNAVNHDNDNNVNNHDDAHNANNNNNVADNHVNANVNNDAHDAVDDANNNVVHNAVHNVAVNNAHNNVHNNNNDNAHAHHNHVNADDNANNHNNDNVNAADDHNAVANVNDDNVDNNNVNNVNDNDDADHHDNHDNHAAVNADNNNNVNNNNANHHDNDNNNANDNANDANNVNNNANNHNNNNNNDNNADNDNNANNNNNHDDAHNNNDNNNNNNNNAHNNHNNNHANNNNAVNVVNDNNNHNNNNADDDAHHANNHAHNVNANNNNNVNAANAADNNNVDAVVNANVDNDHNHHDVVNANADVNHNNHNANNVADHVNANNNNNNAHHNNVNVANNDNNNNANANNHNNHNNNDHDDAAANNVNVNAANNNVNVNANVDAANNADNNVNANVNNDANNVNAAVHNVNANHADDDDVNVNVDDNANANNDNNDVHNHNNANNVNDVNHANNNNNNDNADNNNNHHNHADHNNANHNDNVNAVVDHNNVHNHNHNDNDANDNAHHVNDHNNAHAHVVNNNDNDHHVNANHANANDNNVVNNDHVVNNHNVNDVNNHNNNNANHNNHNANNNNNHVNNVHNDVVNVNANHNNNAHNHVDNNHHNDNHNNNNAADNDNNDNNNVNNHNVNVNNANDNVNNDVAHAVDVNNNNNHVNHHANVNNVNND\n"
          ]
        }
      ],
      "source": [
        "# Bob performs a measurement on each photon.\n",
        "# Use the methods of the Photon class to measure each photon.\n",
        "# outcomeBob should be a string of n characters.\n",
        "# Use the convention 'H','V','D','A', ' '=not measured\n",
        "outcomeBob = \"\"\n",
        "for i in range(n):\n",
        "    if basisBob[i] == '+':\n",
        "        outcomeBob += QC.measureHV(qcArray[i], .5)\n",
        "    elif basisBob[i] == 'x':\n",
        "        outcomeBob += QC.measureDA(qcArray[i], .5)\n",
        "print(\"outcomeBob  = \" + outcomeBob)"
      ]
    },
    {
      "cell_type": "code",
      "execution_count": null,
      "metadata": {
        "id": "0gGCyV0nZvta",
        "colab": {
          "base_uri": "https://localhost:8080/"
        },
        "outputId": "31bb8169-e989-43bd-97e7-c8633482fb44"
      },
      "outputs": [
        {
          "output_type": "stream",
          "name": "stdout",
          "text": [
            "keyBob      = --010010-1--1-1--0----000-11--1--0-0--1-0----101-00-0-00000----0-1--11010------00-----100---1-0-011101----10----1-1-001--10---01--1-011-1--0---1-00-10---1-01-0--110--1---0---1--001--0-10-----01-0-10-11-0--100---00--10-1--0-100-101--0-00-1--1-1-1-000--0-0-01--0--01110---11-100-1-1010-11-1-0-010-111-0--001-------1--1--0-------1--010-101-00-11-1--0--11101-0-----001-10-0-0--101100110---001-001-000--01--01----1-01011-10-011-0--1--1-0-00111-000-0-11-01---0--0-1-1101111-11-1000-01----0----0-111-1---0-1-0-10--0---0--1------1--01-1--0-----11101---1--------01--1---10----00-00-1---1----01110110--101-0-0-----0-00-001---01000-0-01-11-11100-0-010-1--1-0--00110-0------011--0-00--1----0-0--1--1---1111000--0-0-00---0-0-0-0100--01--0-0-0--10--0-0001-0-0-1011110-0-011-0-0--1--101-1--0--0-10-10------1-01----11-1011--0-1-1-0-00011--01-1-1-1-10-1-0110-11--010100---1-1110-0-10-0-1--00--1100--1-0-10--1----0-1--1-0-----10--01-100-0-0-1---01-101--11-1-1----001-1--1---0--1-0-0--0-1-0--10010010-----10-110-0--0--1\n"
          ]
        }
      ],
      "source": [
        "# Bob infers the raw key.\n",
        "# keyBob should be a string of n characters.\n",
        "# Use the convention '0', '1', '-'=invalid measurement\n",
        "\n",
        "# Modified to accomodate Psi-\n",
        "keyBob = \"\"\n",
        "for i in range(n):\n",
        "    if basisBob[i] == '+':\n",
        "        if outcomeBob[i] == 'H':\n",
        "            keyBob += '1'\n",
        "        elif outcomeBob[i] == 'V':\n",
        "            keyBob += '0'\n",
        "        else:\n",
        "            keyBob += '-'\n",
        "    elif basisBob[i] == 'x':\n",
        "        if outcomeBob[i] == 'D':\n",
        "            keyBob += '1'\n",
        "        elif outcomeBob[i] == 'A':\n",
        "            keyBob += '0'\n",
        "        else:\n",
        "            keyBob += '-'\n",
        "print(\"keyBob      = \" + keyBob)"
      ]
    },
    {
      "cell_type": "code",
      "execution_count": null,
      "metadata": {
        "collapsed": true,
        "id": "Y7wJGnQ4Zvtb"
      },
      "outputs": [],
      "source": []
    },
    {
      "cell_type": "code",
      "execution_count": null,
      "metadata": {
        "collapsed": true,
        "id": "1zGtLaTnZvtb"
      },
      "outputs": [],
      "source": [
        "# -----------------------------------------------------------\n",
        "# Alice and Bob now publicly announce which bases they chose.\n",
        "# Bob also announces which of his measurements were invalid.\n",
        "# -----------------------------------------------------------"
      ]
    },
    {
      "cell_type": "code",
      "execution_count": null,
      "metadata": {
        "id": "ZyyM_NDGZvtb",
        "colab": {
          "base_uri": "https://localhost:8080/"
        },
        "outputId": "1bf78371-6be0-4eef-d9a9-0f91df07adcd"
      },
      "outputs": [
        {
          "output_type": "stream",
          "name": "stdout",
          "text": [
            "siftedAlice =   0  010    1    0     00  1  1  0 0  1 0    101 00 0 00000      1  1  10      00     100   1 0   1101    1     1 1  0    0   01  1 0   1  0   1 00 10   1 01 0    0  1   0   1  00   0 1      01 0 1  1  0   00   00  10 1  0  00 101    00 1      1 000  0 0  1  0  011     11 10  1  01     1 0  1  111                 1  0          010 10     11        11 1        0  10 0 0    110011    0 1 001 000   1  0       0101  10 011 0  1    0 00  1 000 0 11 0       0 1 1 0111  11 100        0    0 111         0 10  0   0  1      1  0     0     11101            01  1         0  00 1   1     11  11   101 0 0     0 00  01   0100  0 01 11  1100 0 010 1  1    0 110 0      011  0  0  1      0  1  1   1  100        0     0 0 0100  0   0   0   0  0 0001 0 0 10 1110   011 0 0  1  1   1  0  0 1  1         01    11 1  1      1 0 0 011  01 1     10 1  11   1  01010      1110 0 1       00  110     0 10  1    0 1  1       10     10  0 0 1   0  1    11   1    001 1      0    0 0  0 1 0  10010010     10  10 0  0  1\n",
            "siftedBob   =   0  010    1    0     00  1  1  0 0  1 0    101 00 0 00000      1  1  10      00     100   1 0   1101    1     1 1  0    0   01  1 0   1  0   1 00 10   1 01 0    0  1   0   1  00   0 1      01 0 1  1  0   00   00  10 1  0  00 101    00 1      1 000  0 0  1  0  011     11 10  1  01     1 0  1  111                 1  0          010 10     11        11 1        0  10 0 0    110011    0 1 001 000   1  0       0101  10 011 0  1    0 00  1 000 0 11 0       0 1 1 0111  11 100        0    0 111         0 10  0   0  1      1  0     0     11101            01  1         0  00 1   1     11  11   101 0 0     0 00  01   0100  0 01 11  1100 0 010 1  1    0 110 0      011  0  0  1      0  1  1   1  100        0     0 0 0100  0   0   0   0  0 0001 0 0 10 1110   011 0 0  1  1   1  0  0 1  1         01    11 1  1      1 0 0 011  01 1     10 1  11   1  01010      1110 0 1       00  110     0 10  1    0 1  1       10     10  0 0 1   0  1    11   1    001 1      0    0 0  0 1 0  10010010     10  10 0  0  1\n"
          ]
        }
      ],
      "source": [
        "# Alice & Bob ----------------------------------------------------------\n",
        "\n",
        "# Alice and Bob extract their sifted keys.\n",
        "# siftedAlice and siftedBob should be strings of length n.\n",
        "# Use the convention '0', '1', ' '=removed\n",
        "siftedAlice = \"\"\n",
        "siftedBob   = \"\"\n",
        "# TODO: Put your code here.\n",
        "for index in range(n):\n",
        "    if keyAlice[index] == '-' or keyBob[index] == '-':\n",
        "        siftedAlice += ' '\n",
        "        siftedBob += ' '\n",
        "    elif basisAlice[index] != basisBob[index]:\n",
        "      siftedAlice += ' '\n",
        "      siftedBob += ' '\n",
        "    else:\n",
        "        siftedAlice += keyAlice[index]\n",
        "        siftedBob += keyBob[index]\n",
        "print(\"siftedAlice = \" + siftedAlice)\n",
        "print(\"siftedBob   = \" + siftedBob)"
      ]
    },
    {
      "cell_type": "code",
      "execution_count": null,
      "metadata": {
        "id": "6EDViRyeZvtb",
        "colab": {
          "base_uri": "https://localhost:8080/"
        },
        "outputId": "48212a1d-f988-41c4-956b-224018081976"
      },
      "outputs": [
        {
          "output_type": "stream",
          "name": "stdout",
          "text": [
            "0.0 QBER\n",
            "sampleIndex = 0010000100000000000000011001000000000010100001010100000100000000010010001000000100000000000000100010010000000000101001000000000000101000100000000000000001010000000100000010000000000000100000010010000000000000000000001010000000011000000101000000100010010000000000011000000101000100000000000100100011000000000000000001000000000000001101100000010000000010000000000010011010100001110110000101010001000000000000000001010010000001000000000010010100000110000000001010001101001100010000000000000001010000000000000001000100100000000010000000000001000000000000000100000000000001000101000000000000011000011010100000100100010001111001001010001000000011010000000100010100000011100100100000000000000010000000100000000000000000001111000000100000001001000110000000000100000100101000001000100000000000000000000010000010100100000000100000100100100000000100110000000111000000010010001000000000000000000000100000000100001000000010000000000100000000001000010000000001000100000000000001000000000100010110000000001000000000\n"
          ]
        }
      ],
      "source": [
        "# Alice and Bob use a portion of their sifted keys to estimate the quantum bit error rate (QBER).\n",
        "# sampleIndex should be a string of n characters.\n",
        "# Use the convention '0'=ignored, '1'=sampled\n",
        "# The QBER is the fraction of mismatches within the sampled portion.\n",
        "# For large samples, it should be close to the actual QBER,\n",
        "# which Alice and Bob, of course, do not know.\n",
        "sampleIndex = \"\"\n",
        "sampledBobQBER = 0\n",
        "# TODO: Put your code here.\n",
        "numError = 0\n",
        "numTotal = 0\n",
        "\n",
        "# out of non-removed sifted key, 50/50 chance to sample it\n",
        "for i in range(n):\n",
        "    if siftedAlice[i] == ' ' or random.randint(0, 1) == 0:\n",
        "        sampleIndex += '0'\n",
        "    else:\n",
        "        sampleIndex += '1'\n",
        "        numTotal += 1\n",
        "\n",
        "#if sampling and it does not match add one to the number of errors\n",
        "for i in range(n):\n",
        "    if sampleIndex[i] == '1' and siftedAlice[i] != siftedBob[i]:\n",
        "       numError += 1\n",
        "\n",
        "sampledBobQBER = numError / numTotal\n",
        "print(str(sampledBobQBER) + \" QBER\")\n",
        "print(\"sampleIndex = \"+sampleIndex)"
      ]
    },
    {
      "cell_type": "code",
      "execution_count": null,
      "metadata": {
        "id": "NN2_K0cGZvtb",
        "colab": {
          "base_uri": "https://localhost:8080/"
        },
        "outputId": "8b4edd74-12d1-4f6e-cc5e-a016e84df047"
      },
      "outputs": [
        {
          "output_type": "stream",
          "name": "stdout",
          "text": [
            "secureAlice =   0    0               00  1          1 0    1 1 0     0         1  1   0      0              0   1  1          1 1  0            1 0   1                1 0       0      0             1      0  0                     0 1        10      0 1      1   0  0           11      1 1   1           0  1   11                 1              10 10      1        1           0  10 0 0    110 11    0 1 0   0                 1 1  1      0          0  1 0     11         0 1   01 1  11   0               1 1               0   0  1         0            1               0             0   0 1             11    01 0 0     0  0   1   0100  0  1 1   1       10 1       0   0 0      011  0  0               1       0                   0100      0       0  0   01          1     1  0 0     1   1                     1     1 1  1        0     1  0  1        1  11       101       1  0   1                     1        0    1       1          0          1    1         0   1             0         1   0 10         1         \n",
            "secureBob =     0    0               00  1          1 0    1 1 0     0         1  1   0      0              0   1  1          1 1  0            1 0   1                1 0       0      0             1      0  0                     0 1        10      0 1      1   0  0           11      1 1   1           0  1   11                 1              10 10      1        1           0  10 0 0    110 11    0 1 0   0                 1 1  1      0          0  1 0     11         0 1   01 1  11   0               1 1               0   0  1         0            1               0             0   0 1             11    01 0 0     0  0   1   0100  0  1 1   1       10 1       0   0 0      011  0  0               1       0                   0100      0       0  0   01          1     1  0 0     1   1                     1     1 1  1        0     1  0  1        1  11       101       1  0   1                     1        0    1       1          0          1    1         0   1             0         1   0 10         1         \n"
          ]
        }
      ],
      "source": [
        "# Alice and Bob remove the portion of their sifted keys that was sampled.\n",
        "# Since a portion of the sifted key was publicly revealed, it cannot be used.\n",
        "# secureAlice and secureBob should be strings of length n.\n",
        "# Use the convention '0', '1', ' '=removed\n",
        "secureAlice = \"\"\n",
        "secureBob = \"\"\n",
        "# TODO: Put your code here.\n",
        "for i in range (n):\n",
        "  # if we sample it is removed\n",
        "  if sampleIndex[i] == '0':\n",
        "    secureAlice += ' '\n",
        "    secureBob += ' '\n",
        "  #if we don't sample we just pass it on\n",
        "  else:\n",
        "    secureAlice += siftedAlice[i]\n",
        "    secureBob += siftedBob[i]\n",
        "print(\"secureAlice = \" +secureAlice)\n",
        "print(\"secureBob =   \"  + secureBob)"
      ]
    },
    {
      "cell_type": "code",
      "execution_count": null,
      "metadata": {
        "collapsed": true,
        "id": "Tq7qTX1OZvtc"
      },
      "outputs": [],
      "source": [
        "# Alice and Bob make a hard determination whether the channel is secure.\n",
        "# If it looks like there's something fishy, better hit the kill switch!\n",
        "channelSecure = True # default value, to be changed to False if Eve suspected\n",
        "# TODO: Put your code here.\n",
        "if (sampledBobQBER > .0001):\n",
        "  channelSecure = False"
      ]
    },
    {
      "cell_type": "code",
      "source": [
        "# Eve infers the raw key.\n",
        "# keyEve should be a string of n characters.\n",
        "# Use the convention '0', '1', '-'=invalid measurement, ' '=not measured\n",
        "\n",
        "# Also adjusted for Psi-\n",
        "keyEve = \"\"\n",
        "for index in range(len(outcomeEve)):\n",
        "  if outcomeEve[index] == \"H\":\n",
        "    keyEve += \"1\"\n",
        "  elif outcomeEve[index] == \"V\":\n",
        "    keyEve += \"0\"\n",
        "  elif outcomeEve[index] == \"D\":\n",
        "    keyEve += \"1\"\n",
        "  elif outcomeEve[index] == \"A\":\n",
        "    keyEve += \"0\"\n",
        "  elif outcomeEve[index] == \"N\" or outcomeEve[index] == \"M\":\n",
        "    keyEve += \"-\"\n",
        "  else:\n",
        "    keyEve += \" \"\n",
        "\n",
        "print(\"keyEve     = \" + keyEve)"
      ],
      "metadata": {
        "id": "-hRDpNDZaTlp",
        "colab": {
          "base_uri": "https://localhost:8080/"
        },
        "outputId": "c1516883-fbf0-49ae-c8eb-cf0e3f7bffec"
      },
      "execution_count": null,
      "outputs": [
        {
          "output_type": "stream",
          "name": "stdout",
          "text": [
            "keyEve     =   101   000  00 01101 1  10    0  11 0  10 0 0 0            0  11 0 001 110111   0 00      1   0100     0  11      11101 01 011     100   0 101      1 0   1   10001   1 0     10  01   0111  0 001  1  0110 0 10 111    1 001 0 10 1 001   001 0100 0   1     1 01 001  01 1  01 110  01 1000   111 11    110110 01    01  0  0 010100 1  11  01110 0 00011 0  10110101011000 1 110 01      1 0  10   0     11 1  00  00    00 01 1 01     00     0001  1 1 0 1 0 011 0 0   0 00 0   1 111 10        0 0   000  1 0    11      1    0001010 0 01     0    10   0  0 1 1 10 1 10001 101 1 1  0 1 0   010001  10    0    000 11 1011 0 0   111 1  00 00001 0 1       0 1001100      011   101 1  1  0  11 10  0 1   00   10 10111 0001011   0    101  11  0101 0    1 110   10   111 1 00     0 10101 0  00 0 110110 10 0 100011    10  01 0    011   10 0  1010 0    1 01 00 1     11 1010 0 0  01 1 0     10  1 00 1  110       000001 11   11 101  1   1 000 10 010 1  00  1 1    10000 00   00      0   1 011  1   110 0 10  1 00    \n"
          ]
        }
      ]
    },
    {
      "cell_type": "code",
      "source": [
        "# Eve extracts her sifted key.\n",
        "# Knowing what Alice and Bob have publically revealed, Eve\n",
        "# now selects which portion of her sifted key to keep.\n",
        "# stolenEve should be strings of length n.\n",
        "# Use the '0', '1', ' '=removed\n",
        "stolenEve = \"\"\n",
        "# TODO: Put your code here.\n",
        "# i have keyalice and keybob\n",
        "# i add\n",
        "for i in range(n):\n",
        "    if keyEve[i] == '-' or keyEve[i] == ' ' or basisAlice[i] != basisEve[i]:\n",
        "        stolenEve += ' '\n",
        "    else:\n",
        "        stolenEve += keyAlice[i]\n",
        "print(\"stolenEve = \" + stolenEve)"
      ],
      "metadata": {
        "id": "t7gnW5S0aVB9",
        "colab": {
          "base_uri": "https://localhost:8080/"
        },
        "outputId": "69860cd5-2365-43d4-c52b-a8eb0dd32664"
      },
      "execution_count": null,
      "outputs": [
        {
          "output_type": "stream",
          "name": "stdout",
          "text": [
            "stolenEve =   0              0010          1   0    0  1 1 1            1   0   1   001 0      11          1  1         0        0    0   0     0     1   0      0     0   0   0   0       01   0   1  0  1 1 0       0    0  000       10   01 0 11    11     1 1   0       1  110     0  10 0     0        0    0      1    1      0       1      0  00      1 1  1  0     10 1 1 1 0 11    01               1   1               1     1  10 0 1               10  0 0 1 0   1           11       00                  1 1         0       0    1 1 10     0     1    01      1 0 0 01 0 0     0     0  1   1     11     1    1      1 00 01 0 1 1   0 0 0   1 1 110 1         1  110 11      1 0    10    0                           1        10    1    0        1  0      0 00    0    00  0 1      1 01  0     1 1  01  1      01 10                  0       1  0 0  1      1   1 0      0 0  1 1    1          01       0  0 1       1 111   0   00   0      0 111 0  1   0      0 0    0111   1               0 100  0   00  1 0      1    \n"
          ]
        }
      ]
    },
    {
      "cell_type": "code",
      "execution_count": null,
      "metadata": {
        "id": "0ewYc4BfZvtf",
        "colab": {
          "base_uri": "https://localhost:8080/"
        },
        "outputId": "b81cd487-e50f-4eaa-e42e-6e3b593b08a1"
      },
      "outputs": [
        {
          "output_type": "stream",
          "name": "stdout",
          "text": [
            "\n",
            "basisAlice  = xxx++xxx+++x++x+x++xx+xxxx+x+xx+++xxx+x+x+++xxxxx+x+xxx+xx+x+xx+xx+++x++xx+xx+x+xx++xxxx+++++xxxx++xxx++xxxxxx+x+x+x+++xxxx+xx++x+++++xxx+xx+xx++xx+x+++xxx++++x++x++xx+x++x+x++xx+++++xxxxx+xxx+x+xx+xx+++++x+x+xx+x+x+xxx+xx+xxx++++xx++x+x++xxxx++x+++++xx+++++xxxx+xxxx+xxx+++++x+x+xxxx+xxx++xx++x+x+x+x+x++x++xxxxx+xxx++x++xx+++xxx+x+x++x+xx+x++xxx++xxx++x+x++xxxx++++xxx+x++++xx+xx+xx++x++x++++x+x+++x++xx++x+xx+x+x++++xxx+xx++xx+++xxx+++xx+xx+xxx+++xx+x+x+xxxx+xx+++++x++xxxx+++++++++++xx++xx+xx++++xxxxxx+++++xxx+++++xxxx+x+x+++xx+++x+xxx+xxx++++x+xxxx+++++x+x+x+++xx+++xxxxx++++++xx++++++x+x+x++xxxxxx++xx++xxxx++xx+xxx++x+x++x+x++xxxxx+++x++x+xx++x+++xx+xx+xx++xx++xxx+x+++++xxx+++x+xxxxx+xxx+xxxxx++xxxxxx+xx++xxxx+x++x+x+++x++xxx+xxx++x+xx++x+xxx+xx++xx+x+xx+xx+xxx+++xxxx++xxx+++x++xx++xxxxxx++x+++++++xxxx+++xx+x+++++x++xx++xxxx++++x+++++x+x++x+xx+xx+++xxx++++x++x++xxx++x+xxx+xx++x+xxxxx++x++x++xxx+++xxxx+x+xx+xx+++xxxxx+x+x+++++++xx++xxx+xxx++x++xxxx+++x+xxx++xxx+x+x+x+x+xx+++xx+xx++x+++x\n",
            "basisBob    = ++xxxxxx+x+++++xx+x++x+xxxxxx+xxx+xx++xxx+xx+xxx++xxx+x+xx++x++x+x+x++x+x+xx++++xxxx++xx+xx+++x++x+xxxxxx+x+++x++++xx+xx++xxxx+++x+x+x++xx+x+x++xxxxx+x++x+++x+++x++x+xx++++x++x+x+xxx++x+x+x++x+x++xx+xx+++x++x++++xx++xxx++xx+xxx+++++xxx++++++x+x+++++xxx++xx+xxx+++xx++x++x+x++xx++xxx+xx++xx+x++x++x++xxx+xx+x++++++x+xxx+xxxxx++x++x+xxx+xxx+++xxx+x+xx+xxx++x++xx++xxx++xxx++xxx+xx+xxx+xx+++xx++x+x+++x+xx++xxx+x+x+x++x++xxxx+x+x++xxx++xxxx++x+x+++xxx+x++++xx+xx+xxxx++xx+x++xx++xxxxxx+xxx+xx++x+x++xxxx+x+xxxx+xxxx+++xxx++xx++xx+xxxx+xxx++xxx++++xxxx+x+++x+xx+xx++x+x++x+x+++x+x++xxx+xxxxx++xx++x+++xx+xx+++xxxxxxx++x+xx+++xx+x+x+x++x+++xxxx+x++x++x+++xx++xx+x++++x++x++x+x+xxx+xxxxxx++xx+x++x+xxxxxx+++++xxxxx+++xxx+xxx+xxx+++xxx+++xx+x++xx++++xxx+xxxxx+++x+xx+xxx+xx+xx++x+++xx++xx+++x++x+x+xxxxx++x++++xx+x+x+++xx++x++x+++++++x++xxxx+xxx+++xx+xxx+x+++x++xxx+++xx++xxx+xx+++++x+++xx++++x++++++++xx+xx++xxx++x++++++xx+++++xx+x++x++++x+x+++xx+++xxxxxxx++xxxx++++x+x++xxxxx+++x+x+x+x++x+xx+++++xx++++xxx\n",
            "basisEve    =   xxx   xxx  x+ +++xx +  +x    +  +x x  xx + x x            +  xx x ++x xx++xx   + +x      x   x+x+     +  +x      +x+x+ +x +++     +x+   x x+x      + x   +   xxx++   + x     +x  x+   x++x  x +++  x  xx+x + xx x+x    + xxx + x+ + xxx   x+x ++++ x   +     x ++ xx+  ++ x  ++ +x+  xx ++x+   +++ xx    x+++xx +x    ++  +  + +++xxx x  x+  x+x+x x xx+++ +  x+xxxx++x+xx++ + ++x xx      x +  ++   +     xx +  ++  xx    ++ ++ x xx     +x     xx+x  x + x + x xx+ + +   x x+ x   x xx+ xx        x +   xxx  x x    x+      x    +xx+xxx x x+     +    x+   x  + + x x+ + ++x+x +xx + +  x + +   xxxxxx  x+    x    ++x ++ x+xx x +   ++x +  xx +++x+ x +       + xxx+xx+      xxx   +x+ +  +  x  x+ +x  + +   +x   x+ +x+xx ++++x++   x    xxx  +x  xxxx +    + x++   xx   +x+ + xx     x +x+++ x  +x + +x+xxx x+ x xx+xx+    xx  xx +    xx+   xx +  ++xx x    x ++ x+ +     ++ xx+x + +  +x x x     xx  + ++ +  +xx       ++++xx +x   +x +++  +   x ++x x+ ++x +  xx  x +    +xxxx ++   ++      +   x x+x  +   +x+ + x+  + xx    \n",
            "\n",
            "keyAlice    = 000--010---01--0-00101-00--1101100-01-110-011101000000000000101-01-11--1001-0-100-011110000-1101--110100-01-0000111--0--1-01--0101110--11010--011001100-11001100---011101-001010100-01011--011101-001-11--0-0-00-10000010-1-100-00110111-10011-1---111000010001-11-011011--00111010--11-01----1110--1-01111--1---11-1000-011-10-01-----00010010----1111-1--00-11-10-1-1-1-0-110-0-011--110011-1-10-1000100000--1-10--111-00101-0101011-01011--00100--100000001100-01--0-0-111-0111-111-100-1--10010111-0-1111-100-1-00110-101010011001-1-10-0-0-0001111111101101-11100101011010----10--0-100010-11000--11--11-1010110101--1000001-011010100-00001-111-110010-010011110-110-110101001-0011-101-00011-00--0--10-1-011--100--0-1---0----10-000100010--00--001--00-00000100-0010-11100-1011-000011001--01-10-1011-01--10--0-101-10-1111--10--1-1100-0-011--01010-0-010011-11-1-10001010-010--1110-011-1-0-000010110-1--10010-111111011-111-1-0101000--010-0000111100-01--0011--0101000010111-0-1010--010110-1100110010010100-0100-10-0-10111\n",
            "keyBob      = --010010-1--1-1--0----000-11--1--0-0--1-0----101-00-0-00000----0-1--11010------00-----100---1-0-011101----10----1-1-001--10---01--1-011-1--0---1-00-10---1-01-0--110--1---0---1--001--0-10-----01-0-10-11-0--100---00--10-1--0-100-101--0-00-1--1-1-1-000--0-0-01--0--01110---11-100-1-1010-11-1-0-010-111-0--001-------1--1--0-------1--010-101-00-11-1--0--11101-0-----001-10-0-0--101100110---001-001-000--01--01----1-01011-10-011-0--1--1-0-00111-000-0-11-01---0--0-1-1101111-11-1000-01----0----0-111-1---0-1-0-10--0---0--1------1--01-1--0-----11101---1--------01--1---10----00-00-1---1----01110110--101-0-0-----0-00-001---01000-0-01-11-11100-0-010-1--1-0--00110-0------011--0-00--1----0-0--1--1---1111000--0-0-00---0-0-0-0100--01--0-0-0--10--0-0001-0-0-1011110-0-011-0-0--1--101-1--0--0-10-10------1-01----11-1011--0-1-1-0-00011--01-1-1-1-10-1-0110-11--010100---1-1110-0-10-0-1--00--1100--1-0-10--1----0-1--1-0-----10--01-100-0-0-1---01-101--11-1-1----001-1--1---0--1-0-0--0-1-0--10010010-----10-110-0--0--1\n",
            "keyEve      =   101   000  00 01101 1  10    0  11 0  10 0 0 0            0  11 0 001 110111   0 00      1   0100     0  11      11101 01 011     100   0 101      1 0   1   10001   1 0     10  01   0111  0 001  1  0110 0 10 111    1 001 0 10 1 001   001 0100 0   1     1 01 001  01 1  01 110  01 1000   111 11    110110 01    01  0  0 010100 1  11  01110 0 00011 0  10110101011000 1 110 01      1 0  10   0     11 1  00  00    00 01 1 01     00     0001  1 1 0 1 0 011 0 0   0 00 0   1 111 10        0 0   000  1 0    11      1    0001010 0 01     0    10   0  0 1 1 10 1 10001 101 1 1  0 1 0   010001  10    0    000 11 1011 0 0   111 1  00 00001 0 1       0 1001100      011   101 1  1  0  11 10  0 1   00   10 10111 0001011   0    101  11  0101 0    1 110   10   111 1 00     0 10101 0  00 0 110110 10 0 100011    10  01 0    011   10 0  1010 0    1 01 00 1     11 1010 0 0  01 1 0     10  1 00 1  110       000001 11   11 101  1   1 000 10 010 1  00  1 1    10000 00   00      0   1 011  1   110 0 10  1 00    \n",
            "\n",
            "siftedAlice =   0  010    1    0     00  1  1  0 0  1 0    101 00 0 00000      1  1  10      00     100   1 0   1101    1     1 1  0    0   01  1 0   1  0   1 00 10   1 01 0    0  1   0   1  00   0 1      01 0 1  1  0   00   00  10 1  0  00 101    00 1      1 000  0 0  1  0  011     11 10  1  01     1 0  1  111                 1  0          010 10     11        11 1        0  10 0 0    110011    0 1 001 000   1  0       0101  10 011 0  1    0 00  1 000 0 11 0       0 1 1 0111  11 100        0    0 111         0 10  0   0  1      1  0     0     11101            01  1         0  00 1   1     11  11   101 0 0     0 00  01   0100  0 01 11  1100 0 010 1  1    0 110 0      011  0  0  1      0  1  1   1  100        0     0 0 0100  0   0   0   0  0 0001 0 0 10 1110   011 0 0  1  1   1  0  0 1  1         01    11 1  1      1 0 0 011  01 1     10 1  11   1  01010      1110 0 1       00  110     0 10  1    0 1  1       10     10  0 0 1   0  1    11   1    001 1      0    0 0  0 1 0  10010010     10  10 0  0  1\n",
            "siftedBob   =   0  010    1    0     00  1  1  0 0  1 0    101 00 0 00000      1  1  10      00     100   1 0   1101    1     1 1  0    0   01  1 0   1  0   1 00 10   1 01 0    0  1   0   1  00   0 1      01 0 1  1  0   00   00  10 1  0  00 101    00 1      1 000  0 0  1  0  011     11 10  1  01     1 0  1  111                 1  0          010 10     11        11 1        0  10 0 0    110011    0 1 001 000   1  0       0101  10 011 0  1    0 00  1 000 0 11 0       0 1 1 0111  11 100        0    0 111         0 10  0   0  1      1  0     0     11101            01  1         0  00 1   1     11  11   101 0 0     0 00  01   0100  0 01 11  1100 0 010 1  1    0 110 0      011  0  0  1      0  1  1   1  100        0     0 0 0100  0   0   0   0  0 0001 0 0 10 1110   011 0 0  1  1   1  0  0 1  1         01    11 1  1      1 0 0 011  01 1     10 1  11   1  01010      1110 0 1       00  110     0 10  1    0 1  1       10     10  0 0 1   0  1    11   1    001 1      0    0 0  0 1 0  10010010     10  10 0  0  1\n",
            "\n",
            "secureAlice =   0    0               00  1          1 0    1 1 0     0         1  1   0      0              0   1  1          1 1  0            1 0   1                1 0       0      0             1      0  0                     0 1        10      0 1      1   0  0           11      1 1   1           0  1   11                 1              10 10      1        1           0  10 0 0    110 11    0 1 0   0                 1 1  1      0          0  1 0     11         0 1   01 1  11   0               1 1               0   0  1         0            1               0             0   0 1             11    01 0 0     0  0   1   0100  0  1 1   1       10 1       0   0 0      011  0  0               1       0                   0100      0       0  0   01          1     1  0 0     1   1                     1     1 1  1        0     1  0  1        1  11       101       1  0   1                     1        0    1       1          0          1    1         0   1             0         1   0 10         1         \n",
            "secureBob   =   0    0               00  1          1 0    1 1 0     0         1  1   0      0              0   1  1          1 1  0            1 0   1                1 0       0      0             1      0  0                     0 1        10      0 1      1   0  0           11      1 1   1           0  1   11                 1              10 10      1        1           0  10 0 0    110 11    0 1 0   0                 1 1  1      0          0  1 0     11         0 1   01 1  11   0               1 1               0   0  1         0            1               0             0   0 1             11    01 0 0     0  0   1   0100  0  1 1   1       10 1       0   0 0      011  0  0               1       0                   0100      0       0  0   01          1     1  0 0     1   1                     1     1 1  1        0     1  0  1        1  11       101       1  0   1                     1        0    1       1          0          1    1         0   1             0         1   0 10         1         \n",
            "stolenEve   =   0              0010          1   0    0  1 1 1            1   0   1   001 0      11          1  1         0        0    0   0     0     1   0      0     0   0   0   0       01   0   1  0  1 1 0       0    0  000       10   01 0 11    11     1 1   0       1  110     0  10 0     0        0    0      1    1      0       1      0  00      1 1  1  0     10 1 1 1 0 11    01               1   1               1     1  10 0 1               10  0 0 1 0   1           11       00                  1 1         0       0    1 1 10     0     1    01      1 0 0 01 0 0     0     0  1   1     11     1    1      1 00 01 0 1 1   0 0 0   1 1 110 1         1  110 11      1 0    10    0                           1        10    1    0        1  0      0 00    0    00  0 1      1 01  0     1 1  01  1      01 10                  0       1  0 0  1      1   1 0      0 0  1 1    1          01       0  0 1       1 111   0   00   0      0 111 0  1   0      0 0    0111   1               0 100  0   00  1 0      1    \n",
            "\n",
            "sampledBobQBER = 0.0\n",
            "actualBobQBER  = 0.0\n",
            "actualEveQBER  = 0.7942386831275721\n",
            "\n",
            "secureKeyRateBob = 175.0 kbps\n",
            "stolenKeyRateEve = 49.999999999999986 kbps\n"
          ]
        }
      ],
      "source": [
        "# ANALYSIS -------------------------------------------------------------\n",
        "\n",
        "# Below is a standard set of metrics to evaluate each protocol.\n",
        "# You need not change any of what follows.\n",
        "\n",
        "# Compare Alice and Bob's sifted keys.\n",
        "numMatchBob = 0\n",
        "actualBobQBER = 0\n",
        "secureKeyRateBob = 0\n",
        "secureKeyLengthBob = 0\n",
        "for i in range(len(secureAlice)):\n",
        "    if secureAlice[i] != ' ':\n",
        "       secureKeyLengthBob += 1\n",
        "       if secureAlice[i] == secureBob[i]:\n",
        "           numMatchBob += 1\n",
        "\n",
        "# Compute the actual quantum bit error rate for Bob.\n",
        "if secureKeyLengthBob > 0:\n",
        "    actualBobQBER = 1 - numMatchBob / secureKeyLengthBob\n",
        "else:\n",
        "    actualBobQBER = float('nan')\n",
        "# Compute the secure key rate, assuming each trial takes 1 microsecond.\n",
        "secureKeyRateBob = (1-actualBobQBER) * secureKeyLengthBob / n * 1e6;\n",
        "\n",
        "# Compare Alice and Eve's sifted keys.\n",
        "numMatchEve = 0\n",
        "actualEveQBER = 0\n",
        "stolenKeyRateEve = 0\n",
        "stolenKeyLengthEve = 0\n",
        "for i in range(len(stolenEve)):\n",
        "    if stolenEve[i] != ' ':\n",
        "       stolenKeyLengthEve += 1\n",
        "       if secureAlice[i] == stolenEve[i]:\n",
        "           numMatchEve += 1\n",
        "# Compute the actual quantum bit error rate for Eve.\n",
        "if stolenKeyLengthEve > 0:\n",
        "    actualEveQBER = 1 - numMatchEve / stolenKeyLengthEve\n",
        "else:\n",
        "    actualEveQBER = float('nan')\n",
        "# Compute the stolen key rate, assuming each trial takes 1 microsecond.\n",
        "stolenKeyRateEve = (1-actualEveQBER) * stolenKeyLengthEve / n * 1e6;\n",
        "\n",
        "\n",
        "# DISPLAY RESULTS ------------------------------------------------------\n",
        "\n",
        "print(\"\")\n",
        "print(\"basisAlice  = \" + basisAlice)\n",
        "print(\"basisBob    = \" + basisBob)\n",
        "print(\"basisEve    = \" + basisEve)\n",
        "print(\"\")\n",
        "print(\"keyAlice    = \" + keyAlice)\n",
        "print(\"keyBob      = \" + keyBob)\n",
        "print(\"keyEve      = \" + keyEve)\n",
        "print(\"\")\n",
        "print(\"siftedAlice = \" + siftedAlice)\n",
        "print(\"siftedBob   = \" + siftedBob)\n",
        "print(\"\")\n",
        "print(\"secureAlice = \" + secureAlice)\n",
        "print(\"secureBob   = \" + secureBob)\n",
        "print(\"stolenEve   = \" + stolenEve)\n",
        "print(\"\")\n",
        "if not channelSecure:\n",
        "    secureKeyRateBob = 0;\n",
        "    stolenKeyRateEve = 0;\n",
        "    print(\"*********************************************\")\n",
        "    print(\"* ALERT! The quantum channel is not secure. *\")\n",
        "    print(\"*********************************************\")\n",
        "    print(\"\")\n",
        "print(\"sampledBobQBER = \" + str(sampledBobQBER))\n",
        "print(\"actualBobQBER  = \" + str(actualBobQBER))\n",
        "print(\"actualEveQBER  = \" + str(actualEveQBER))\n",
        "print(\"\")\n",
        "print(\"secureKeyRateBob = \" + str(secureKeyRateBob/1000) + \" kbps\")\n",
        "print(\"stolenKeyRateEve = \" + str(stolenKeyRateEve/1000) + \" kbps\")\n",
        "\n",
        "# Your goal is to maximize secureKeyRateBob and minimize stolenKeyRateEve."
      ]
    }
  ],
  "metadata": {
    "colab": {
      "provenance": []
    },
    "kernelspec": {
      "display_name": "Python 3",
      "language": "python",
      "name": "python3"
    },
    "language_info": {
      "codemirror_mode": {
        "name": "ipython",
        "version": 3
      },
      "file_extension": ".py",
      "mimetype": "text/x-python",
      "name": "python",
      "nbconvert_exporter": "python",
      "pygments_lexer": "ipython3",
      "version": "3.6.3"
    }
  },
  "nbformat": 4,
  "nbformat_minor": 0
}